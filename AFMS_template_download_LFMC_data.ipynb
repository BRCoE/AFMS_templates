{
 "cells": [
  {
   "cell_type": "code",
   "execution_count": null,
   "metadata": {},
   "outputs": [],
   "source": [
    "import xarray as xr\n",
    "from osgeo import gdal\n",
    "import pandas as pd"
   ]
  },
  {
   "cell_type": "code",
   "execution_count": null,
   "metadata": {},
   "outputs": [],
   "source": [
    "#################################################################\n",
    "#define output file format: 'netcdf' (one file per year, possible error if file too big ), 'geotiff' (daily files YYYYMMDD, might take large memory)\n",
    "format = 'geotiff'         # <--------- change as needed ('netcdf, 'geotiff')\n",
    "\n",
    "#define time range (inclusive)\n",
    "year_start = 2001          # <--------- change as needed\n",
    "year_end = 2022            # <--------- change as needed\n",
    "\n",
    "#define if whole australia or cropped area (also used for files' names)\n",
    "area = 'cropped'           # <--------- change as needed ('australia', 'cropped')\n",
    "\n",
    "#define coordinates limits (values are ignored if 'australia' was chosen)\n",
    "lat_min = -35.35           # <--------- change as needed\n",
    "lat_max = -14.4            # <--------- change as needed\n",
    "\n",
    "lon_min = 112.5            # <--------- change as needed\n",
    "lon_max = 126.7            # <--------- change as needed\n",
    "\n",
    "#path to folder where to save files\n",
    "path = 'C:\\\\path\\\\folder'  # <--------- change as needed\n",
    "#################################################################"
   ]
  },
  {
   "cell_type": "code",
   "execution_count": null,
   "metadata": {},
   "outputs": [],
   "source": [
    "#fixed data for geotiff format\n",
    "res = 0.005  # i.e., 500m spatial resolution \n",
    "wgs84_wkt = 'GEOGCS[\"WGS 84\",DATUM[\"WGS_1984\",SPHEROID[\"WGS 84\",6378137,298.257223563,AUTHORITY[\"EPSG\",\"7030\"]],AUTHORITY[\"EPSG\",\"6326\"]],PRIMEM[\"Greenwich\",0,AUTHORITY[\"EPSG\",\"8901\"]],UNIT[\"degree\",0.01745329251994328,AUTHORITY[\"EPSG\",\"9122\"]],AUTHORITY[\"EPSG\",\"4326\"]]'"
   ]
  },
  {
   "cell_type": "code",
   "execution_count": null,
   "metadata": {},
   "outputs": [],
   "source": [
    "for y in range(year_start, year_end+1):\n",
    "    print('Year: ', y)\n",
    "\n",
    "    #open NetCDF file from THREDDS\n",
    "    nc = xr.open_dataset('https://dapds00.nci.org.au/thredds/dodsC/ub8/au/FMC/mosaics/fmc_c6_{}.nc'.format(y))\n",
    "\n",
    "    if area == 'cropped':\n",
    "        #crop using coordinates (nearest coordinates)\n",
    "        nc = nc.sel(latitude=slice(lat_max, lat_min), longitude=slice(lon_min, lon_max))\n",
    "\n",
    "\n",
    "    #save locally as NetCDF (possible error if file is too big)\n",
    "    if format == 'netcdf':\n",
    "        nc.to_netcdf('{}\\\\lfmc_{}_{}.nc'.format(path, area, y))                           \n",
    "    \n",
    "\n",
    "    #save locally as single date geotiff files (might take a lot of space)\n",
    "    elif format == 'geotiff':\n",
    "        #extract geodata for creation of geotiff files\n",
    "        nc_lat_min = round(min(nc.latitude.data), 3)                         \n",
    "        nc_lat_max = round(max(nc.latitude.data), 3)                         \n",
    "        nc_lon_min = round(min(nc.longitude.data), 3)                        \n",
    "        nc_lon_max = round(max(nc.longitude.data), 3)                       \n",
    "\n",
    "        geot = [nc_lon_min - res/2, res, 0., nc_lat_max + res/2, 0., -1*res] \n",
    "        \n",
    "        #loop over dates in netcdf file\n",
    "        for d in nc.time.data:\n",
    "\n",
    "            d_str = pd.to_datetime(d).strftime('%Y%m%d')\n",
    "            print(d_str)\n",
    "\n",
    "            fmc_array = nc.sel(time=d).lfmc_median.data\n",
    "\n",
    "            fmc_tif = gdal.GetDriverByName('GTiff').Create('{}\\\\lfmc_{}_{}.tif'.format(path, area, d_str), len(nc.longitude), len(nc.latitude), 1, gdal.GDT_Float32)               \n",
    "            fmc_tif.SetGeoTransform(geot)  \n",
    "            fmc_tif.SetProjection(wgs84_wkt)\n",
    "            fmc_tif.GetRasterBand(1).WriteArray(fmc_array)\n",
    "            fmc_tif.FlushCache() #save file\n",
    "            del fmc_tif #close file\n",
    "\n",
    "\n"
   ]
  },
  {
   "cell_type": "code",
   "execution_count": null,
   "metadata": {},
   "outputs": [],
   "source": []
  },
  {
   "cell_type": "code",
   "execution_count": null,
   "metadata": {},
   "outputs": [],
   "source": []
  }
 ],
 "metadata": {
  "language_info": {
   "name": "python"
  }
 },
 "nbformat": 4,
 "nbformat_minor": 2
}
