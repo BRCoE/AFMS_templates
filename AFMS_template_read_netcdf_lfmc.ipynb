{
 "cells": [
  {
   "cell_type": "code",
   "execution_count": null,
   "metadata": {},
   "outputs": [],
   "source": [
    "import xarray as xr\n",
    "import matplotlib.pyplot as plt\n",
    "from osgeo import gdal, ogr\n",
    "import numpy as np"
   ]
  },
  {
   "cell_type": "code",
   "execution_count": null,
   "metadata": {},
   "outputs": [],
   "source": [
    "### open FMC netcdf file with xarray ###\n",
    "#fmc_nc = xr.open_dataset('http://dapds00.nci.org.au/thredds/dodsC/ub8/au/FMC/c6/mosaics/fmc_c6_2020.nc')\n",
    "fmc_nc = xr.open_dataset('/g/data/ub8/au/FMC/c6/mosaics/fmc_c6_2020.nc')\n",
    "print(fmc_nc)"
   ]
  },
  {
   "cell_type": "code",
   "execution_count": null,
   "metadata": {},
   "outputs": [],
   "source": [
    "### explore data in netcdf file ###\n",
    "print(fmc_nc.coords) \n",
    "print(fmc_nc.variables)\n",
    "print(fmc_nc.dims)\n",
    "print(fmc_nc.lfmc_median)"
   ]
  },
  {
   "cell_type": "code",
   "execution_count": null,
   "metadata": {},
   "outputs": [],
   "source": [
    "### filter by date ###\n",
    "one_day = fmc_nc.sel(time='2020-01-01')\n",
    "fmc_one_day = one_day.lfmc_median\n",
    "fmc_one_day_array = fmc_one_day.data # this is now a 2d array"
   ]
  },
  {
   "cell_type": "code",
   "execution_count": null,
   "metadata": {},
   "outputs": [],
   "source": [
    "### visualise array ###\n",
    "plt.imshow(fmc_one_day_array, interpolation='none')\n",
    "plt.show()"
   ]
  },
  {
   "cell_type": "code",
   "execution_count": null,
   "metadata": {},
   "outputs": [],
   "source": [
    "### filter by date using indeces ###\n",
    "fmc_one_day_idx = fmc_nc.isel(time=0).lfmc_median.data  # 0 is first index, in this case 1st Jan 2020  --- this is now a 2d array"
   ]
  },
  {
   "cell_type": "code",
   "execution_count": null,
   "metadata": {},
   "outputs": [],
   "source": [
    "### filter by coords ###\n",
    "one_point = fmc_nc.sel(latitude=-20.0075, longitude=140.985, method='nearest', tolerance=0.005) #tolerance in degrees\n",
    "fmc_one_point = one_point.lfmc_median\n",
    "fmc_one_point_time_series = fmc_one_point.data # this is now a 1d array"
   ]
  },
  {
   "cell_type": "code",
   "execution_count": null,
   "metadata": {},
   "outputs": [],
   "source": [
    "### filter using range of coords and time ###\n",
    "filtered_by_ranges = fmc_nc.sel(time=slice('2020-01-01','2020-01-31'), latitude=slice(-20,-30), longitude=slice(130,140)) # all dates in Jan 2020, latitude from -20 to -30, longitude from 130 to 140\n",
    "fmc_filterd_by_ranges = filtered_by_ranges.lfmc_median.data # this is now a 3d array"
   ]
  },
  {
   "cell_type": "code",
   "execution_count": null,
   "metadata": {},
   "outputs": [],
   "source": [
    "### compute mean across time dimension ###\n",
    "monthly_mean = filtered_by_ranges.lfmc_median.mean(dim='time') # Nan are not considered in the computation of the mean\n",
    "\n",
    "monthly_mean_array = monthly_mean.data "
   ]
  },
  {
   "cell_type": "code",
   "execution_count": null,
   "metadata": {},
   "outputs": [],
   "source": [
    "### visualisation ###\n",
    "plt.imshow(monthly_mean, interpolation='none')\n",
    "plt.show()"
   ]
  },
  {
   "cell_type": "code",
   "execution_count": null,
   "metadata": {},
   "outputs": [],
   "source": [
    "### alternative way of filtering ###\n",
    "filtered_by_idx = fmc_nc.sel(time='2020-01-01').lfmc_median.data[500:1000,6000:6500]  #[latitude, longitude]  --- this is now a 2d array\n"
   ]
  },
  {
   "cell_type": "code",
   "execution_count": null,
   "metadata": {},
   "outputs": [],
   "source": [
    "### filter with shapefile ###\n",
    "lfmc_array = fmc_nc.sel(time='2020-01-01').lfmc_median.data\n",
    "\n",
    "# same dimensions used to create LFMC netcdf files\n",
    "lat0 = -10.\n",
    "lat1 = -44.\n",
    "lon0 = 113.\n",
    "lon1 = 154.\n",
    "\n",
    "res = 0.005\n",
    "\n",
    "x_size = int((lon1 - lon0)/res)\n",
    "y_size = int((lat1 - lat0)/(-1*res))\n",
    "lats = np.linspace(lat0, lat1+res, num=y_size)\n",
    "lons = np.linspace(lon0, lon1-res, num=x_size)\n",
    "\n",
    "geot = [lon0 - res/2, res, 0., lat0 + res/2, 0., -1*res] \n",
    "\n",
    "wgs84_wkt = 'GEOGCS[\"WGS 84\",DATUM[\"WGS_1984\",SPHEROID[\"WGS 84\",6378137,298.257223563,AUTHORITY[\"EPSG\",\"7030\"]],AUTHORITY[\"EPSG\",\"6326\"]],PRIMEM[\"Greenwich\",0,AUTHORITY[\"EPSG\",\"8901\"]],UNIT[\"degree\",0.01745329251994328,AUTHORITY[\"EPSG\",\"9122\"]],AUTHORITY[\"EPSG\",\"4326\"]]'\n",
    "\n",
    "# create empty raster, same size of LFMC images\n",
    "fire_modis_res = gdal.GetDriverByName('MEM').Create('', x_size, y_size, 1, gdal.GDT_Int16)\n",
    "#fire_modis_res = gdal.GetDriverByName('GTiff').Create('PATH/orroral_raster.tif', x_size, y_size, 1, gdal.GDT_Int16)    # if want to save file\n",
    "fire_modis_res.SetProjection(wgs84_wkt)\n",
    "fire_modis_res.SetGeoTransform(geot)\n",
    "\n",
    "fire_shp = ogr.Open(r'PATH\\\\orroral_fire.shp', 0)\n",
    "fire_shp_layer = fire_shp.GetLayer(0)\n",
    "\n",
    "# create raster mask of same size and res of LFMC MODIS array, the mask will have pixels equal to 1 where the polygon shapefile is located\n",
    "# use 'ALL_TOUCHED=TRUE' if want to include all modis pixels that touch the polygon\n",
    "# otherwise, only pixels whose centre is inside the polygon will be considered\n",
    "gdal.RasterizeLayer(fire_modis_res, [1], fire_shp_layer, burn_values=[1], options=['ALL_TOUCHED=TRUE']) # (empty raster to imprint, raster band to use, sapefile to rasterize, values of the rasterize shapefile, ...) \n",
    "\n",
    "#fire_modis_res.FlushCache() #if chosen to save file\n",
    "\n",
    "fire_event_mask = fire_modis_res.GetRasterBand(1).ReadAsArray() # mask to use with LFMC arrays\n",
    "\n",
    "lfmc_fire_event = np.where(fire_event_mask==1, lfmc_array, np.nan)"
   ]
  },
  {
   "cell_type": "code",
   "execution_count": null,
   "metadata": {},
   "outputs": [],
   "source": []
  },
  {
   "cell_type": "code",
   "execution_count": null,
   "metadata": {},
   "outputs": [],
   "source": []
  },
  {
   "cell_type": "code",
   "execution_count": null,
   "metadata": {},
   "outputs": [],
   "source": []
  },
  {
   "cell_type": "code",
   "execution_count": null,
   "metadata": {},
   "outputs": [],
   "source": []
  }
 ],
 "metadata": {
  "language_info": {
   "name": "python"
  }
 },
 "nbformat": 4,
 "nbformat_minor": 2
}
